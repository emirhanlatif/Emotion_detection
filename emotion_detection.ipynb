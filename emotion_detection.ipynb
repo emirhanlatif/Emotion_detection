{
 "cells": [
  {
   "cell_type": "code",
   "execution_count": 1,
   "metadata": {},
   "outputs": [],
   "source": [
    "import cv2\n",
    "import matplotlib.pyplot as plt\n",
    "from keras.preprocessing.image import ImageDataGenerator\n",
    "from keras.models import Sequential\n",
    "from keras.layers import Activation,Dropout,Flatten,Conv2D,MaxPooling2D,Dense,BatchNormalization\n",
    "from keras.utils import to_categorical\n",
    "import sklearn\n",
    "from sklearn.metrics import classification_report,confusion_matrix\n",
    "import numpy as np\n",
    "import pandas as pd\n"
   ]
  },
  {
   "attachments": {},
   "cell_type": "markdown",
   "metadata": {},
   "source": [
    "## Data Preparation"
   ]
  },
  {
   "cell_type": "code",
   "execution_count": 2,
   "metadata": {},
   "outputs": [],
   "source": [
    "df = pd.read_csv('C:/Users/Emirhan/Desktop/emotions/icml_face_data.csv')"
   ]
  },
  {
   "cell_type": "code",
   "execution_count": 3,
   "metadata": {},
   "outputs": [
    {
     "data": {
      "text/html": [
       "<div>\n",
       "<style scoped>\n",
       "    .dataframe tbody tr th:only-of-type {\n",
       "        vertical-align: middle;\n",
       "    }\n",
       "\n",
       "    .dataframe tbody tr th {\n",
       "        vertical-align: top;\n",
       "    }\n",
       "\n",
       "    .dataframe thead th {\n",
       "        text-align: right;\n",
       "    }\n",
       "</style>\n",
       "<table border=\"1\" class=\"dataframe\">\n",
       "  <thead>\n",
       "    <tr style=\"text-align: right;\">\n",
       "      <th></th>\n",
       "      <th>emotion</th>\n",
       "      <th>Usage</th>\n",
       "      <th>pixels</th>\n",
       "    </tr>\n",
       "  </thead>\n",
       "  <tbody>\n",
       "    <tr>\n",
       "      <th>0</th>\n",
       "      <td>0</td>\n",
       "      <td>Training</td>\n",
       "      <td>70 80 82 72 58 58 60 63 54 58 60 48 89 115 121...</td>\n",
       "    </tr>\n",
       "    <tr>\n",
       "      <th>1</th>\n",
       "      <td>0</td>\n",
       "      <td>Training</td>\n",
       "      <td>151 150 147 155 148 133 111 140 170 174 182 15...</td>\n",
       "    </tr>\n",
       "    <tr>\n",
       "      <th>2</th>\n",
       "      <td>2</td>\n",
       "      <td>Training</td>\n",
       "      <td>231 212 156 164 174 138 161 173 182 200 106 38...</td>\n",
       "    </tr>\n",
       "    <tr>\n",
       "      <th>3</th>\n",
       "      <td>4</td>\n",
       "      <td>Training</td>\n",
       "      <td>24 32 36 30 32 23 19 20 30 41 21 22 32 34 21 1...</td>\n",
       "    </tr>\n",
       "    <tr>\n",
       "      <th>4</th>\n",
       "      <td>6</td>\n",
       "      <td>Training</td>\n",
       "      <td>4 0 0 0 0 0 0 0 0 0 0 0 3 15 23 28 48 50 58 84...</td>\n",
       "    </tr>\n",
       "  </tbody>\n",
       "</table>\n",
       "</div>"
      ],
      "text/plain": [
       "   emotion     Usage                                             pixels\n",
       "0        0  Training  70 80 82 72 58 58 60 63 54 58 60 48 89 115 121...\n",
       "1        0  Training  151 150 147 155 148 133 111 140 170 174 182 15...\n",
       "2        2  Training  231 212 156 164 174 138 161 173 182 200 106 38...\n",
       "3        4  Training  24 32 36 30 32 23 19 20 30 41 21 22 32 34 21 1...\n",
       "4        6  Training  4 0 0 0 0 0 0 0 0 0 0 0 3 15 23 28 48 50 58 84..."
      ]
     },
     "execution_count": 3,
     "metadata": {},
     "output_type": "execute_result"
    }
   ],
   "source": [
    "df.head()"
   ]
  },
  {
   "attachments": {},
   "cell_type": "markdown",
   "metadata": {},
   "source": [
    "##### 0: Angry\n",
    "##### 1: Disgust\n",
    "##### 2: Fear\n",
    "##### 3: Happy\n",
    "##### 4: Sad\n",
    "##### 5: Suprise\n",
    "##### 6: Neutral"
   ]
  },
  {
   "cell_type": "code",
   "execution_count": 4,
   "metadata": {},
   "outputs": [
    {
     "data": {
      "text/plain": [
       "35887"
      ]
     },
     "execution_count": 4,
     "metadata": {},
     "output_type": "execute_result"
    }
   ],
   "source": [
    "len(df)"
   ]
  },
  {
   "cell_type": "code",
   "execution_count": 5,
   "metadata": {},
   "outputs": [
    {
     "data": {
      "text/plain": [
       "0           Training\n",
       "1           Training\n",
       "2           Training\n",
       "3           Training\n",
       "4           Training\n",
       "            ...     \n",
       "35882    PrivateTest\n",
       "35883    PrivateTest\n",
       "35884    PrivateTest\n",
       "35885    PrivateTest\n",
       "35886    PrivateTest\n",
       "Name:  Usage, Length: 35887, dtype: object"
      ]
     },
     "execution_count": 5,
     "metadata": {},
     "output_type": "execute_result"
    }
   ],
   "source": [
    "df[' Usage']"
   ]
  },
  {
   "cell_type": "code",
   "execution_count": 6,
   "metadata": {},
   "outputs": [
    {
     "data": {
      "text/plain": [
       "emotion\n",
       "3    8989\n",
       "6    6198\n",
       "4    6077\n",
       "2    5121\n",
       "0    4953\n",
       "5    4002\n",
       "1     547\n",
       "Name: count, dtype: int64"
      ]
     },
     "execution_count": 6,
     "metadata": {},
     "output_type": "execute_result"
    }
   ],
   "source": [
    "df['emotion'].value_counts()"
   ]
  },
  {
   "cell_type": "code",
   "execution_count": 7,
   "metadata": {},
   "outputs": [],
   "source": [
    "training = df[(df[' Usage']=='Training')]\n",
    "validation = df[(df[' Usage']=='PrivateTest')]\n",
    "test = df[(df[' Usage']== 'PublicTest')]\n"
   ]
  },
  {
   "cell_type": "code",
   "execution_count": 87,
   "metadata": {},
   "outputs": [
    {
     "data": {
      "text/html": [
       "<div>\n",
       "<style scoped>\n",
       "    .dataframe tbody tr th:only-of-type {\n",
       "        vertical-align: middle;\n",
       "    }\n",
       "\n",
       "    .dataframe tbody tr th {\n",
       "        vertical-align: top;\n",
       "    }\n",
       "\n",
       "    .dataframe thead th {\n",
       "        text-align: right;\n",
       "    }\n",
       "</style>\n",
       "<table border=\"1\" class=\"dataframe\">\n",
       "  <thead>\n",
       "    <tr style=\"text-align: right;\">\n",
       "      <th></th>\n",
       "      <th>emotion</th>\n",
       "      <th>Usage</th>\n",
       "      <th>pixels</th>\n",
       "    </tr>\n",
       "  </thead>\n",
       "  <tbody>\n",
       "    <tr>\n",
       "      <th>28709</th>\n",
       "      <td>0</td>\n",
       "      <td>PublicTest</td>\n",
       "      <td>254 254 254 254 254 249 255 160 2 58 53 70 77 ...</td>\n",
       "    </tr>\n",
       "    <tr>\n",
       "      <th>28710</th>\n",
       "      <td>1</td>\n",
       "      <td>PublicTest</td>\n",
       "      <td>156 184 198 202 204 207 210 212 213 214 215 21...</td>\n",
       "    </tr>\n",
       "    <tr>\n",
       "      <th>28711</th>\n",
       "      <td>4</td>\n",
       "      <td>PublicTest</td>\n",
       "      <td>69 118 61 60 96 121 103 87 103 88 70 90 115 12...</td>\n",
       "    </tr>\n",
       "    <tr>\n",
       "      <th>28712</th>\n",
       "      <td>6</td>\n",
       "      <td>PublicTest</td>\n",
       "      <td>205 203 236 157 83 158 120 116 94 86 155 180 2...</td>\n",
       "    </tr>\n",
       "    <tr>\n",
       "      <th>28713</th>\n",
       "      <td>3</td>\n",
       "      <td>PublicTest</td>\n",
       "      <td>87 79 74 66 74 96 77 80 80 84 83 89 102 91 84 ...</td>\n",
       "    </tr>\n",
       "    <tr>\n",
       "      <th>...</th>\n",
       "      <td>...</td>\n",
       "      <td>...</td>\n",
       "      <td>...</td>\n",
       "    </tr>\n",
       "    <tr>\n",
       "      <th>32293</th>\n",
       "      <td>4</td>\n",
       "      <td>PublicTest</td>\n",
       "      <td>178 176 172 173 173 174 176 173 166 166 206 22...</td>\n",
       "    </tr>\n",
       "    <tr>\n",
       "      <th>32294</th>\n",
       "      <td>3</td>\n",
       "      <td>PublicTest</td>\n",
       "      <td>25 34 42 44 42 47 57 59 59 58 54 51 50 56 63 6...</td>\n",
       "    </tr>\n",
       "    <tr>\n",
       "      <th>32295</th>\n",
       "      <td>4</td>\n",
       "      <td>PublicTest</td>\n",
       "      <td>255 255 255 255 255 255 255 255 255 255 255 25...</td>\n",
       "    </tr>\n",
       "    <tr>\n",
       "      <th>32296</th>\n",
       "      <td>4</td>\n",
       "      <td>PublicTest</td>\n",
       "      <td>33 25 31 36 36 42 69 103 132 163 175 183 187 1...</td>\n",
       "    </tr>\n",
       "    <tr>\n",
       "      <th>32297</th>\n",
       "      <td>4</td>\n",
       "      <td>PublicTest</td>\n",
       "      <td>61 63 59 75 151 159 166 161 143 170 127 131 18...</td>\n",
       "    </tr>\n",
       "  </tbody>\n",
       "</table>\n",
       "<p>3589 rows × 3 columns</p>\n",
       "</div>"
      ],
      "text/plain": [
       "       emotion       Usage                                             pixels\n",
       "28709        0  PublicTest  254 254 254 254 254 249 255 160 2 58 53 70 77 ...\n",
       "28710        1  PublicTest  156 184 198 202 204 207 210 212 213 214 215 21...\n",
       "28711        4  PublicTest  69 118 61 60 96 121 103 87 103 88 70 90 115 12...\n",
       "28712        6  PublicTest  205 203 236 157 83 158 120 116 94 86 155 180 2...\n",
       "28713        3  PublicTest  87 79 74 66 74 96 77 80 80 84 83 89 102 91 84 ...\n",
       "...        ...         ...                                                ...\n",
       "32293        4  PublicTest  178 176 172 173 173 174 176 173 166 166 206 22...\n",
       "32294        3  PublicTest  25 34 42 44 42 47 57 59 59 58 54 51 50 56 63 6...\n",
       "32295        4  PublicTest  255 255 255 255 255 255 255 255 255 255 255 25...\n",
       "32296        4  PublicTest  33 25 31 36 36 42 69 103 132 163 175 183 187 1...\n",
       "32297        4  PublicTest  61 63 59 75 151 159 166 161 143 170 127 131 18...\n",
       "\n",
       "[3589 rows x 3 columns]"
      ]
     },
     "execution_count": 87,
     "metadata": {},
     "output_type": "execute_result"
    }
   ],
   "source": [
    "test"
   ]
  },
  {
   "cell_type": "code",
   "execution_count": 8,
   "metadata": {},
   "outputs": [
    {
     "data": {
      "text/html": [
       "<div>\n",
       "<style scoped>\n",
       "    .dataframe tbody tr th:only-of-type {\n",
       "        vertical-align: middle;\n",
       "    }\n",
       "\n",
       "    .dataframe tbody tr th {\n",
       "        vertical-align: top;\n",
       "    }\n",
       "\n",
       "    .dataframe thead th {\n",
       "        text-align: right;\n",
       "    }\n",
       "</style>\n",
       "<table border=\"1\" class=\"dataframe\">\n",
       "  <thead>\n",
       "    <tr style=\"text-align: right;\">\n",
       "      <th></th>\n",
       "      <th>emotion</th>\n",
       "      <th>Usage</th>\n",
       "      <th>pixels</th>\n",
       "    </tr>\n",
       "  </thead>\n",
       "  <tbody>\n",
       "    <tr>\n",
       "      <th>0</th>\n",
       "      <td>0</td>\n",
       "      <td>Training</td>\n",
       "      <td>70 80 82 72 58 58 60 63 54 58 60 48 89 115 121...</td>\n",
       "    </tr>\n",
       "    <tr>\n",
       "      <th>1</th>\n",
       "      <td>0</td>\n",
       "      <td>Training</td>\n",
       "      <td>151 150 147 155 148 133 111 140 170 174 182 15...</td>\n",
       "    </tr>\n",
       "    <tr>\n",
       "      <th>2</th>\n",
       "      <td>2</td>\n",
       "      <td>Training</td>\n",
       "      <td>231 212 156 164 174 138 161 173 182 200 106 38...</td>\n",
       "    </tr>\n",
       "    <tr>\n",
       "      <th>3</th>\n",
       "      <td>4</td>\n",
       "      <td>Training</td>\n",
       "      <td>24 32 36 30 32 23 19 20 30 41 21 22 32 34 21 1...</td>\n",
       "    </tr>\n",
       "    <tr>\n",
       "      <th>4</th>\n",
       "      <td>6</td>\n",
       "      <td>Training</td>\n",
       "      <td>4 0 0 0 0 0 0 0 0 0 0 0 3 15 23 28 48 50 58 84...</td>\n",
       "    </tr>\n",
       "    <tr>\n",
       "      <th>...</th>\n",
       "      <td>...</td>\n",
       "      <td>...</td>\n",
       "      <td>...</td>\n",
       "    </tr>\n",
       "    <tr>\n",
       "      <th>28704</th>\n",
       "      <td>2</td>\n",
       "      <td>Training</td>\n",
       "      <td>84 85 85 85 85 85 85 85 86 86 86 87 86 86 91 9...</td>\n",
       "    </tr>\n",
       "    <tr>\n",
       "      <th>28705</th>\n",
       "      <td>0</td>\n",
       "      <td>Training</td>\n",
       "      <td>114 112 113 113 111 111 112 113 115 113 114 11...</td>\n",
       "    </tr>\n",
       "    <tr>\n",
       "      <th>28706</th>\n",
       "      <td>4</td>\n",
       "      <td>Training</td>\n",
       "      <td>74 81 87 89 95 100 98 93 105 120 127 133 146 1...</td>\n",
       "    </tr>\n",
       "    <tr>\n",
       "      <th>28707</th>\n",
       "      <td>0</td>\n",
       "      <td>Training</td>\n",
       "      <td>222 227 203 90 86 90 84 77 94 87 99 119 134 14...</td>\n",
       "    </tr>\n",
       "    <tr>\n",
       "      <th>28708</th>\n",
       "      <td>4</td>\n",
       "      <td>Training</td>\n",
       "      <td>195 199 205 206 205 203 206 209 208 210 212 21...</td>\n",
       "    </tr>\n",
       "  </tbody>\n",
       "</table>\n",
       "<p>28709 rows × 3 columns</p>\n",
       "</div>"
      ],
      "text/plain": [
       "       emotion     Usage                                             pixels\n",
       "0            0  Training  70 80 82 72 58 58 60 63 54 58 60 48 89 115 121...\n",
       "1            0  Training  151 150 147 155 148 133 111 140 170 174 182 15...\n",
       "2            2  Training  231 212 156 164 174 138 161 173 182 200 106 38...\n",
       "3            4  Training  24 32 36 30 32 23 19 20 30 41 21 22 32 34 21 1...\n",
       "4            6  Training  4 0 0 0 0 0 0 0 0 0 0 0 3 15 23 28 48 50 58 84...\n",
       "...        ...       ...                                                ...\n",
       "28704        2  Training  84 85 85 85 85 85 85 85 86 86 86 87 86 86 91 9...\n",
       "28705        0  Training  114 112 113 113 111 111 112 113 115 113 114 11...\n",
       "28706        4  Training  74 81 87 89 95 100 98 93 105 120 127 133 146 1...\n",
       "28707        0  Training  222 227 203 90 86 90 84 77 94 87 99 119 134 14...\n",
       "28708        4  Training  195 199 205 206 205 203 206 209 208 210 212 21...\n",
       "\n",
       "[28709 rows x 3 columns]"
      ]
     },
     "execution_count": 8,
     "metadata": {},
     "output_type": "execute_result"
    }
   ],
   "source": [
    "training"
   ]
  },
  {
   "cell_type": "code",
   "execution_count": 9,
   "metadata": {},
   "outputs": [
    {
     "name": "stderr",
     "output_type": "stream",
     "text": [
      "C:\\Users\\Emirhan\\AppData\\Local\\Temp\\ipykernel_14632\\89056989.py:2: DeprecationWarning: `np.float` is a deprecated alias for the builtin `float`. To silence this warning, use `float` by itself. Doing this will not modify any behavior and is safe. If you specifically wanted the numpy scalar type, use `np.float64` here.\n",
      "Deprecated in NumPy 1.20; for more details and guidance: https://numpy.org/devdocs/release/1.20.0-notes.html#deprecations\n",
      "  train_images = np.array(train_pixels, dtype=np.float)\n",
      "C:\\Users\\Emirhan\\AppData\\Local\\Temp\\ipykernel_14632\\89056989.py:5: DeprecationWarning: `np.float` is a deprecated alias for the builtin `float`. To silence this warning, use `float` by itself. Doing this will not modify any behavior and is safe. If you specifically wanted the numpy scalar type, use `np.float64` here.\n",
      "Deprecated in NumPy 1.20; for more details and guidance: https://numpy.org/devdocs/release/1.20.0-notes.html#deprecations\n",
      "  val_images = np.array(val_pixels, dtype=np.float)\n",
      "C:\\Users\\Emirhan\\AppData\\Local\\Temp\\ipykernel_14632\\89056989.py:8: DeprecationWarning: `np.float` is a deprecated alias for the builtin `float`. To silence this warning, use `float` by itself. Doing this will not modify any behavior and is safe. If you specifically wanted the numpy scalar type, use `np.float64` here.\n",
      "Deprecated in NumPy 1.20; for more details and guidance: https://numpy.org/devdocs/release/1.20.0-notes.html#deprecations\n",
      "  test_images = np.array(test_pixels, dtype=np.float)\n"
     ]
    }
   ],
   "source": [
    "train_pixels = list(training[' pixels'].str.split(' '))\n",
    "train_images = np.array(train_pixels, dtype=np.float)\n",
    "\n",
    "val_pixels = list(validation[' pixels'].str.split(' '))\n",
    "val_images = np.array(val_pixels, dtype=np.float)\n",
    "\n",
    "test_pixels = list(test[' pixels'].str.split(' '))\n",
    "test_images = np.array(test_pixels, dtype=np.float)\n"
   ]
  },
  {
   "cell_type": "code",
   "execution_count": 10,
   "metadata": {},
   "outputs": [
    {
     "name": "stdout",
     "output_type": "stream",
     "text": [
      "(28709, 2304)\n",
      "(3589, 2304)\n",
      "(3589, 2304)\n"
     ]
    }
   ],
   "source": [
    "print(train_images.shape)\n",
    "print(val_images.shape)\n",
    "print(test_images.shape)"
   ]
  },
  {
   "cell_type": "code",
   "execution_count": 11,
   "metadata": {},
   "outputs": [],
   "source": [
    "y_train = training['emotion']\n",
    "y_val = validation['emotion']\n",
    "y_test = test['emotion']"
   ]
  },
  {
   "cell_type": "code",
   "execution_count": 12,
   "metadata": {},
   "outputs": [
    {
     "name": "stdout",
     "output_type": "stream",
     "text": [
      "(28709,)\n",
      "(3589,)\n",
      "(3589,)\n"
     ]
    }
   ],
   "source": [
    "print(y_train.shape)\n",
    "print(y_val.shape)\n",
    "print(y_test.shape)"
   ]
  },
  {
   "cell_type": "code",
   "execution_count": 13,
   "metadata": {},
   "outputs": [],
   "source": [
    "def show(index):\n",
    "    show_image = train_images[index].reshape(48,48)\n",
    "    plt.imshow(show_image,cmap='gray')\n",
    "    print('Emotion:',y_train[index])"
   ]
  },
  {
   "cell_type": "code",
   "execution_count": 14,
   "metadata": {},
   "outputs": [
    {
     "name": "stdout",
     "output_type": "stream",
     "text": [
      "Emotion: 4\n"
     ]
    },
    {
     "data": {
      "image/png": "[encoded data removed]",
      "text/plain": [
       "<Figure size 640x480 with 1 Axes>"
      ]
     },
     "metadata": {},
     "output_type": "display_data"
    }
   ],
   "source": [
    "show(3)"
   ]
  },
  {
   "cell_type": "code",
   "execution_count": 15,
   "metadata": {},
   "outputs": [
    {
     "name": "stdout",
     "output_type": "stream",
     "text": [
      "Emotion: 2\n"
     ]
    },
    {
     "data": {
      "image/png": "[encoded data removed]",
      "text/plain": [
       "<Figure size 640x480 with 1 Axes>"
      ]
     },
     "metadata": {},
     "output_type": "display_data"
    }
   ],
   "source": [
    "show(2)"
   ]
  },
  {
   "attachments": {},
   "cell_type": "markdown",
   "metadata": {},
   "source": [
    "## Preprocessing"
   ]
  },
  {
   "cell_type": "code",
   "execution_count": 16,
   "metadata": {},
   "outputs": [],
   "source": [
    "images_train = []\n",
    "for train_image in train_images:\n",
    "    image_dim = train_image.reshape(48,48)\n",
    "    image_dim = list(image_dim)\n",
    "    images_train.append(image_dim)\n"
   ]
  },
  {
   "cell_type": "code",
   "execution_count": 17,
   "metadata": {},
   "outputs": [],
   "source": [
    "images_val = []\n",
    "for val_image in val_images:\n",
    "    image_dim = val_image.reshape(48,48)\n",
    "    image_dim = list(image_dim)\n",
    "    images_val.append(image_dim)"
   ]
  },
  {
   "cell_type": "code",
   "execution_count": 18,
   "metadata": {},
   "outputs": [],
   "source": [
    "images_test = []\n",
    "for test_image in test_images:\n",
    "    image_dim = test_image.reshape(48,48)\n",
    "    image_dim = list(image_dim)\n",
    "    images_test.append(image_dim)"
   ]
  },
  {
   "cell_type": "code",
   "execution_count": 19,
   "metadata": {},
   "outputs": [],
   "source": [
    "images_train = np.array(images_train)\n",
    "images_val = np.array(images_val)\n",
    "images_test = np.array(images_test)\n"
   ]
  },
  {
   "cell_type": "code",
   "execution_count": 20,
   "metadata": {},
   "outputs": [
    {
     "name": "stdout",
     "output_type": "stream",
     "text": [
      "(28709, 48, 48)\n",
      "(3589, 48, 48)\n",
      "(3589, 48, 48)\n"
     ]
    }
   ],
   "source": [
    "print(images_train.shape)\n",
    "print(images_val.shape)\n",
    "print(images_test.shape)"
   ]
  },
  {
   "cell_type": "code",
   "execution_count": 21,
   "metadata": {},
   "outputs": [],
   "source": [
    "X_train = np.expand_dims(images_train,3)\n",
    "X_val = np.expand_dims(images_val,3)\n",
    "X_test = np.expand_dims(images_test,3)"
   ]
  },
  {
   "cell_type": "code",
   "execution_count": 22,
   "metadata": {},
   "outputs": [
    {
     "name": "stdout",
     "output_type": "stream",
     "text": [
      "(28709, 48, 48, 1)\n",
      "(3589, 48, 48, 1)\n",
      "(3589, 48, 48, 1)\n"
     ]
    }
   ],
   "source": [
    "print(X_train.shape)\n",
    "print(X_val.shape)\n",
    "print(X_test.shape)"
   ]
  },
  {
   "cell_type": "code",
   "execution_count": 23,
   "metadata": {},
   "outputs": [],
   "source": [
    "y_train_cat= to_categorical(y_train,num_classes=7)\n",
    "y_val_cat = to_categorical(y_val,num_classes=7)\n",
    "y_test_cat = to_categorical(y_test,num_classes=7)"
   ]
  },
  {
   "cell_type": "code",
   "execution_count": 24,
   "metadata": {},
   "outputs": [
    {
     "name": "stdout",
     "output_type": "stream",
     "text": [
      "(28709, 7)\n",
      "(3589, 7)\n",
      "(3589, 7)\n"
     ]
    }
   ],
   "source": [
    "print(y_train_cat.shape)\n",
    "print(y_val_cat.shape)\n",
    "print(y_test_cat.shape)"
   ]
  },
  {
   "attachments": {},
   "cell_type": "markdown",
   "metadata": {},
   "source": [
    "### Creating Model"
   ]
  },
  {
   "cell_type": "code",
   "execution_count": 25,
   "metadata": {},
   "outputs": [
    {
     "name": "stdout",
     "output_type": "stream",
     "text": [
      "Model: \"sequential\"\n",
      "_________________________________________________________________\n",
      " Layer (type)                Output Shape              Param #   \n",
      "=================================================================\n",
      " conv2d (Conv2D)             (None, 46, 46, 32)        320       \n",
      "                                                                 \n",
      " conv2d_1 (Conv2D)           (None, 44, 44, 64)        18496     \n",
      "                                                                 \n",
      " batch_normalization (BatchN  (None, 44, 44, 64)       256       \n",
      " ormalization)                                                   \n",
      "                                                                 \n",
      " max_pooling2d (MaxPooling2D  (None, 22, 22, 64)       0         \n",
      " )                                                               \n",
      "                                                                 \n",
      " conv2d_2 (Conv2D)           (None, 20, 20, 64)        36928     \n",
      "                                                                 \n",
      " batch_normalization_1 (Batc  (None, 20, 20, 64)       256       \n",
      " hNormalization)                                                 \n",
      "                                                                 \n",
      " max_pooling2d_1 (MaxPooling  (None, 10, 10, 64)       0         \n",
      " 2D)                                                             \n",
      "                                                                 \n",
      " conv2d_3 (Conv2D)           (None, 8, 8, 64)          36928     \n",
      "                                                                 \n",
      " batch_normalization_2 (Batc  (None, 8, 8, 64)         256       \n",
      " hNormalization)                                                 \n",
      "                                                                 \n",
      " max_pooling2d_2 (MaxPooling  (None, 4, 4, 64)         0         \n",
      " 2D)                                                             \n",
      "                                                                 \n",
      " conv2d_4 (Conv2D)           (None, 2, 2, 32)          18464     \n",
      "                                                                 \n",
      " batch_normalization_3 (Batc  (None, 2, 2, 32)         128       \n",
      " hNormalization)                                                 \n",
      "                                                                 \n",
      " max_pooling2d_3 (MaxPooling  (None, 1, 1, 32)         0         \n",
      " 2D)                                                             \n",
      "                                                                 \n",
      " flatten (Flatten)           (None, 32)                0         \n",
      "                                                                 \n",
      " dense (Dense)               (None, 128)               4224      \n",
      "                                                                 \n",
      " batch_normalization_4 (Batc  (None, 128)              512       \n",
      " hNormalization)                                                 \n",
      "                                                                 \n",
      " activation (Activation)     (None, 128)               0         \n",
      "                                                                 \n",
      " dropout (Dropout)           (None, 128)               0         \n",
      "                                                                 \n",
      " dense_1 (Dense)             (None, 7)                 903       \n",
      "                                                                 \n",
      " activation_1 (Activation)   (None, 7)                 0         \n",
      "                                                                 \n",
      "=================================================================\n",
      "Total params: 117,671\n",
      "Trainable params: 116,967\n",
      "Non-trainable params: 704\n",
      "_________________________________________________________________\n"
     ]
    }
   ],
   "source": [
    "model = Sequential()\n",
    "\n",
    "model.add(Conv2D(filters=32,kernel_size=(3,3),activation='relu',input_shape = (48,48,1)))\n",
    "\n",
    "model.add(Conv2D(filters=64,kernel_size=(3,3),activation='relu'))\n",
    "model.add(BatchNormalization())\n",
    "model.add(MaxPooling2D(pool_size=(2,2)))\n",
    "\n",
    "model.add(Conv2D(filters=64,kernel_size=(3,3),activation='relu'))\n",
    "model.add(BatchNormalization())\n",
    "model.add(MaxPooling2D(pool_size=(2,2)))\n",
    "\n",
    "\n",
    "model.add(Conv2D(filters=64,kernel_size=(3,3),activation='relu'))\n",
    "model.add(BatchNormalization())\n",
    "model.add(MaxPooling2D(pool_size=(2,2)))\n",
    "\n",
    "model.add(Conv2D(filters=32,kernel_size=(3,3),activation='relu'))\n",
    "model.add(BatchNormalization())\n",
    "model.add(MaxPooling2D(pool_size =(2,2),strides =2))\n",
    "\n",
    "model.add(Flatten())\n",
    "model.add(Dense(128))\n",
    "model.add(BatchNormalization())\n",
    "model.add(Activation(\"relu\"))\n",
    "model.add(Dropout(0.6))\n",
    "\n",
    "\n",
    "model.add(Dense(7))\n",
    "model.add(Activation('softmax'))\n",
    "\n",
    "model.summary()\n"
   ]
  },
  {
   "cell_type": "code",
   "execution_count": 26,
   "metadata": {},
   "outputs": [],
   "source": [
    "model.compile(loss='categorical_crossentropy',optimizer='adam',metrics=['accuracy'])"
   ]
  },
  {
   "cell_type": "code",
   "execution_count": 27,
   "metadata": {},
   "outputs": [
    {
     "name": "stdout",
     "output_type": "stream",
     "text": [
      "Epoch 1/60\n",
      "225/225 [==============================] - 15s 40ms/step - loss: 1.9839 - accuracy: 0.2674 - val_loss: 1.7218 - val_accuracy: 0.2909\n",
      "Epoch 2/60\n",
      "225/225 [==============================] - 8s 37ms/step - loss: 1.5897 - accuracy: 0.3886 - val_loss: 1.6800 - val_accuracy: 0.3681\n",
      "Epoch 3/60\n",
      "225/225 [==============================] - 8s 36ms/step - loss: 1.4184 - accuracy: 0.4575 - val_loss: 1.3647 - val_accuracy: 0.4673\n",
      "Epoch 4/60\n",
      "225/225 [==============================] - 8s 36ms/step - loss: 1.2936 - accuracy: 0.5049 - val_loss: 1.2696 - val_accuracy: 0.5063\n",
      "Epoch 5/60\n",
      "225/225 [==============================] - 8s 37ms/step - loss: 1.2103 - accuracy: 0.5383 - val_loss: 1.2739 - val_accuracy: 0.5230\n",
      "Epoch 6/60\n",
      "225/225 [==============================] - 8s 36ms/step - loss: 1.1475 - accuracy: 0.5660 - val_loss: 1.1893 - val_accuracy: 0.5403\n",
      "Epoch 7/60\n",
      "225/225 [==============================] - 8s 36ms/step - loss: 1.0920 - accuracy: 0.5904 - val_loss: 1.1424 - val_accuracy: 0.5684\n",
      "Epoch 8/60\n",
      "225/225 [==============================] - 8s 36ms/step - loss: 1.0410 - accuracy: 0.6097 - val_loss: 1.1838 - val_accuracy: 0.5561\n",
      "Epoch 9/60\n",
      "225/225 [==============================] - 8s 36ms/step - loss: 0.9926 - accuracy: 0.6280 - val_loss: 1.1720 - val_accuracy: 0.5698\n",
      "Epoch 10/60\n",
      "225/225 [==============================] - 8s 36ms/step - loss: 0.9397 - accuracy: 0.6473 - val_loss: 1.1724 - val_accuracy: 0.5648\n",
      "Epoch 11/60\n",
      "225/225 [==============================] - 8s 36ms/step - loss: 0.8940 - accuracy: 0.6666 - val_loss: 1.2169 - val_accuracy: 0.5517\n",
      "Epoch 12/60\n",
      "225/225 [==============================] - 8s 36ms/step - loss: 0.8550 - accuracy: 0.6830 - val_loss: 1.2168 - val_accuracy: 0.5709\n",
      "Epoch 13/60\n",
      "225/225 [==============================] - 8s 36ms/step - loss: 0.8010 - accuracy: 0.7025 - val_loss: 1.2257 - val_accuracy: 0.5826\n",
      "Epoch 14/60\n",
      "225/225 [==============================] - 8s 36ms/step - loss: 0.7609 - accuracy: 0.7213 - val_loss: 1.3224 - val_accuracy: 0.5536\n",
      "Epoch 15/60\n",
      "225/225 [==============================] - 8s 37ms/step - loss: 0.7127 - accuracy: 0.7418 - val_loss: 1.2565 - val_accuracy: 0.5759\n",
      "Epoch 16/60\n",
      "225/225 [==============================] - 8s 37ms/step - loss: 0.6645 - accuracy: 0.7556 - val_loss: 1.3938 - val_accuracy: 0.5542\n",
      "Epoch 17/60\n",
      "225/225 [==============================] - 8s 37ms/step - loss: 0.6161 - accuracy: 0.7744 - val_loss: 1.4124 - val_accuracy: 0.5715\n",
      "Epoch 18/60\n",
      "225/225 [==============================] - 8s 37ms/step - loss: 0.5865 - accuracy: 0.7867 - val_loss: 1.5563 - val_accuracy: 0.5506\n",
      "Epoch 19/60\n",
      "225/225 [==============================] - 8s 37ms/step - loss: 0.5391 - accuracy: 0.8042 - val_loss: 1.5669 - val_accuracy: 0.5553\n",
      "Epoch 20/60\n",
      "225/225 [==============================] - 8s 37ms/step - loss: 0.5132 - accuracy: 0.8144 - val_loss: 1.6010 - val_accuracy: 0.5606\n",
      "Epoch 21/60\n",
      "225/225 [==============================] - 8s 37ms/step - loss: 0.4762 - accuracy: 0.8275 - val_loss: 1.6330 - val_accuracy: 0.5715\n",
      "Epoch 22/60\n",
      "225/225 [==============================] - 8s 37ms/step - loss: 0.4436 - accuracy: 0.8411 - val_loss: 1.6422 - val_accuracy: 0.5698\n",
      "Epoch 23/60\n",
      "225/225 [==============================] - 8s 37ms/step - loss: 0.4128 - accuracy: 0.8505 - val_loss: 1.7159 - val_accuracy: 0.5670\n",
      "Epoch 24/60\n",
      "225/225 [==============================] - 8s 37ms/step - loss: 0.3894 - accuracy: 0.8582 - val_loss: 1.8934 - val_accuracy: 0.5692\n",
      "Epoch 25/60\n",
      "225/225 [==============================] - 8s 37ms/step - loss: 0.3720 - accuracy: 0.8657 - val_loss: 1.8580 - val_accuracy: 0.5637\n",
      "Epoch 26/60\n",
      "225/225 [==============================] - 8s 37ms/step - loss: 0.3587 - accuracy: 0.8714 - val_loss: 1.9093 - val_accuracy: 0.5701\n",
      "Epoch 27/60\n",
      "225/225 [==============================] - 8s 38ms/step - loss: 0.3235 - accuracy: 0.8858 - val_loss: 2.0038 - val_accuracy: 0.5692\n",
      "Epoch 28/60\n",
      "225/225 [==============================] - 8s 37ms/step - loss: 0.3080 - accuracy: 0.8928 - val_loss: 2.0245 - val_accuracy: 0.5620\n",
      "Epoch 29/60\n",
      "225/225 [==============================] - 8s 37ms/step - loss: 0.2933 - accuracy: 0.8980 - val_loss: 2.1115 - val_accuracy: 0.5606\n",
      "Epoch 30/60\n",
      "225/225 [==============================] - 8s 36ms/step - loss: 0.2799 - accuracy: 0.9020 - val_loss: 2.2022 - val_accuracy: 0.5651\n",
      "Epoch 31/60\n",
      "225/225 [==============================] - 8s 37ms/step - loss: 0.2648 - accuracy: 0.9078 - val_loss: 2.2184 - val_accuracy: 0.5520\n",
      "Epoch 32/60\n",
      "225/225 [==============================] - 8s 36ms/step - loss: 0.2606 - accuracy: 0.9080 - val_loss: 2.2157 - val_accuracy: 0.5779\n",
      "Epoch 33/60\n",
      "225/225 [==============================] - 8s 36ms/step - loss: 0.2274 - accuracy: 0.9207 - val_loss: 2.3630 - val_accuracy: 0.5676\n",
      "Epoch 34/60\n",
      "225/225 [==============================] - 8s 36ms/step - loss: 0.2381 - accuracy: 0.9182 - val_loss: 2.3880 - val_accuracy: 0.5430\n",
      "Epoch 35/60\n",
      "225/225 [==============================] - 8s 36ms/step - loss: 0.2466 - accuracy: 0.9156 - val_loss: 2.4715 - val_accuracy: 0.5634\n",
      "Epoch 36/60\n",
      "225/225 [==============================] - 8s 37ms/step - loss: 0.2020 - accuracy: 0.9311 - val_loss: 2.3791 - val_accuracy: 0.5770\n",
      "Epoch 37/60\n",
      "225/225 [==============================] - 8s 37ms/step - loss: 0.1986 - accuracy: 0.9316 - val_loss: 2.4609 - val_accuracy: 0.5698\n",
      "Epoch 38/60\n",
      "225/225 [==============================] - 8s 38ms/step - loss: 0.1966 - accuracy: 0.9316 - val_loss: 2.5024 - val_accuracy: 0.5626\n",
      "Epoch 39/60\n",
      "225/225 [==============================] - 8s 37ms/step - loss: 0.1935 - accuracy: 0.9323 - val_loss: 2.5853 - val_accuracy: 0.5567\n",
      "Epoch 40/60\n",
      "225/225 [==============================] - 8s 36ms/step - loss: 0.1760 - accuracy: 0.9398 - val_loss: 2.8117 - val_accuracy: 0.5545\n",
      "Epoch 41/60\n",
      "225/225 [==============================] - 8s 37ms/step - loss: 0.1786 - accuracy: 0.9390 - val_loss: 2.6619 - val_accuracy: 0.5690\n",
      "Epoch 42/60\n",
      "225/225 [==============================] - 9s 38ms/step - loss: 0.1810 - accuracy: 0.9386 - val_loss: 2.6504 - val_accuracy: 0.5634\n",
      "Epoch 43/60\n",
      "225/225 [==============================] - 9s 38ms/step - loss: 0.1629 - accuracy: 0.9453 - val_loss: 2.6674 - val_accuracy: 0.5779\n",
      "Epoch 44/60\n",
      "225/225 [==============================] - 8s 37ms/step - loss: 0.1540 - accuracy: 0.9494 - val_loss: 2.8021 - val_accuracy: 0.5653\n",
      "Epoch 45/60\n",
      "225/225 [==============================] - 8s 37ms/step - loss: 0.1688 - accuracy: 0.9448 - val_loss: 2.8855 - val_accuracy: 0.5628\n",
      "Epoch 46/60\n",
      "225/225 [==============================] - 8s 37ms/step - loss: 0.1602 - accuracy: 0.9457 - val_loss: 2.7263 - val_accuracy: 0.5751\n",
      "Epoch 47/60\n",
      "225/225 [==============================] - 8s 37ms/step - loss: 0.1492 - accuracy: 0.9499 - val_loss: 2.8820 - val_accuracy: 0.5514\n",
      "Epoch 48/60\n",
      "225/225 [==============================] - 8s 37ms/step - loss: 0.1518 - accuracy: 0.9486 - val_loss: 2.8126 - val_accuracy: 0.5821\n",
      "Epoch 49/60\n",
      "225/225 [==============================] - 8s 37ms/step - loss: 0.1348 - accuracy: 0.9548 - val_loss: 3.0386 - val_accuracy: 0.5626\n",
      "Epoch 50/60\n",
      "225/225 [==============================] - 8s 37ms/step - loss: 0.1298 - accuracy: 0.9582 - val_loss: 2.9349 - val_accuracy: 0.5592\n",
      "Epoch 51/60\n",
      "225/225 [==============================] - 8s 36ms/step - loss: 0.1393 - accuracy: 0.9545 - val_loss: 2.9853 - val_accuracy: 0.5564\n",
      "Epoch 52/60\n",
      "225/225 [==============================] - 8s 36ms/step - loss: 0.1472 - accuracy: 0.9511 - val_loss: 2.9196 - val_accuracy: 0.5637\n",
      "Epoch 53/60\n",
      "225/225 [==============================] - 8s 36ms/step - loss: 0.1253 - accuracy: 0.9582 - val_loss: 2.9163 - val_accuracy: 0.5692\n",
      "Epoch 54/60\n",
      "225/225 [==============================] - 8s 36ms/step - loss: 0.1214 - accuracy: 0.9587 - val_loss: 2.9925 - val_accuracy: 0.5717\n",
      "Epoch 55/60\n",
      "225/225 [==============================] - 8s 36ms/step - loss: 0.1543 - accuracy: 0.9495 - val_loss: 3.1043 - val_accuracy: 0.5592\n",
      "Epoch 56/60\n",
      "225/225 [==============================] - 8s 36ms/step - loss: 0.1142 - accuracy: 0.9620 - val_loss: 3.0178 - val_accuracy: 0.5626\n",
      "Epoch 57/60\n",
      "225/225 [==============================] - 8s 37ms/step - loss: 0.1189 - accuracy: 0.9608 - val_loss: 3.1049 - val_accuracy: 0.5595\n",
      "Epoch 58/60\n",
      "225/225 [==============================] - 8s 37ms/step - loss: 0.1202 - accuracy: 0.9600 - val_loss: 3.1316 - val_accuracy: 0.5581\n",
      "Epoch 59/60\n",
      "225/225 [==============================] - 8s 37ms/step - loss: 0.1208 - accuracy: 0.9610 - val_loss: 3.2285 - val_accuracy: 0.5584\n",
      "Epoch 60/60\n",
      "225/225 [==============================] - 8s 37ms/step - loss: 0.1247 - accuracy: 0.9590 - val_loss: 3.1749 - val_accuracy: 0.5706\n"
     ]
    }
   ],
   "source": [
    "epochs = 60\n",
    "batch_size = 128\n",
    "\n",
    "result = model.fit(X_train, y_train_cat, batch_size=batch_size, epochs=epochs, verbose =1,\n",
    "                   validation_data=(X_val,y_val_cat),shuffle=True) "
   ]
  },
  {
   "attachments": {},
   "cell_type": "markdown",
   "metadata": {},
   "source": [
    "### Model Evaluate"
   ]
  },
  {
   "cell_type": "code",
   "execution_count": 28,
   "metadata": {},
   "outputs": [
    {
     "name": "stdout",
     "output_type": "stream",
     "text": [
      "113/113 [==============================] - 1s 5ms/step - loss: 3.3936 - accuracy: 0.5458\n"
     ]
    },
    {
     "data": {
      "text/plain": [
       "[3.3935530185699463, 0.545834481716156]"
      ]
     },
     "execution_count": 28,
     "metadata": {},
     "output_type": "execute_result"
    }
   ],
   "source": [
    "model.evaluate(X_test,y_test_cat)"
   ]
  },
  {
   "cell_type": "code",
   "execution_count": 56,
   "metadata": {},
   "outputs": [],
   "source": [
    "from sklearn.metrics import classification_report"
   ]
  },
  {
   "cell_type": "code",
   "execution_count": 49,
   "metadata": {},
   "outputs": [
    {
     "name": "stdout",
     "output_type": "stream",
     "text": [
      "113/113 [==============================] - 1s 5ms/step\n"
     ]
    }
   ],
   "source": [
    "preds_prob=model.predict(X_test)\n",
    "predictions = np.argmax(preds_prob,axis=1)\n"
   ]
  },
  {
   "cell_type": "code",
   "execution_count": 55,
   "metadata": {},
   "outputs": [
    {
     "name": "stdout",
     "output_type": "stream",
     "text": [
      "              precision    recall  f1-score   support\n",
      "\n",
      "           0       0.46      0.41      0.43       467\n",
      "           1       0.47      0.39      0.43        56\n",
      "           2       0.38      0.38      0.38       496\n",
      "           3       0.77      0.72      0.74       895\n",
      "           4       0.47      0.41      0.43       653\n",
      "           5       0.63      0.79      0.70       415\n",
      "           6       0.46      0.53      0.49       607\n",
      "\n",
      "    accuracy                           0.55      3589\n",
      "   macro avg       0.52      0.52      0.52      3589\n",
      "weighted avg       0.55      0.55      0.54      3589\n",
      "\n"
     ]
    }
   ],
   "source": [
    "print(classification_report(y_test,predictions))"
   ]
  },
  {
   "attachments": {},
   "cell_type": "markdown",
   "metadata": {},
   "source": [
    "### Predictions"
   ]
  },
  {
   "cell_type": "code",
   "execution_count": 133,
   "metadata": {},
   "outputs": [],
   "source": [
    "def single_predict(img):\n",
    "\n",
    "    emotions = ['Angry', 'Disgust','Fear','Happy','Sad','Suprise','Neutral']\n",
    "\n",
    "    single_image =np.reshape(img,(1,48,48,1))\n",
    "    pred = model.predict(single_image)\n",
    "    prediction = np.argmax(pred,axis=1)\n",
    "    print('Emotion:',emotions[prediction[0]])\n",
    "    plt.imshow(img)"
   ]
  },
  {
   "cell_type": "code",
   "execution_count": 140,
   "metadata": {},
   "outputs": [
    {
     "name": "stdout",
     "output_type": "stream",
     "text": [
      "1/1 [==============================] - 0s 29ms/step\n",
      "Emotion: Happy\n",
      "<class 'numpy.ndarray'>\n"
     ]
    },
    {
     "data": {
      "image/png": "[encoded data removed]",
      "text/plain": [
       "<Figure size 640x480 with 1 Axes>"
      ]
     },
     "metadata": {},
     "output_type": "display_data"
    }
   ],
   "source": [
    "single_predict(X_test[55])"
   ]
  }
 ],
 "metadata": {
  "kernelspec": {
   "display_name": "tfenv",
   "language": "python",
   "name": "python3"
  },
  "language_info": {
   "codemirror_mode": {
    "name": "ipython",
    "version": 3
   },
   "file_extension": ".py",
   "mimetype": "text/x-python",
   "name": "python",
   "nbconvert_exporter": "python",
   "pygments_lexer": "ipython3",
   "version": "3.9.16"
  },
  "orig_nbformat": 4
 },
 "nbformat": 4,
 "nbformat_minor": 2
}
